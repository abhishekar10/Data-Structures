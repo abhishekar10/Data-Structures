{
 "cells": [
  {
   "cell_type": "markdown",
   "metadata": {},
   "source": [
    "# Min Stack\n",
    "\n",
    "### Problem Statement :\n",
    "\n",
    "Design a stack that supports push, pop, top, and retrieving the minimum element in constant time.\n",
    "\n",
    "Implement the MinStack class:\n",
    "\n",
    " - MinStack() initializes the stack object.\n",
    " - void push(int val) pushes the element val onto the stack.\n",
    " - void pop() removes the element on the top of the stack.\n",
    " - int top() gets the top element of the stack.\n",
    " - int getMin() retrieves the minimum element in the stack.\n",
    "You must implement a solution with O(1) time complexity for each function.\n",
    "\n",
    "Example 1:\n",
    "\n",
    "Input\n",
    "[\"MinStack\",\"push\",\"push\",\"push\",\"getMin\",\"pop\",\"top\",\"getMin\"]\n",
    "[[],[-2],[0],[-3],[],[],[],[]]\n",
    "\n",
    "Output\n",
    "[null,null,null,null,-3,null,0,-2]\n",
    "\n",
    "Explanation\n",
    "MinStack minStack = new MinStack();\n",
    "minStack.push(-2);\n",
    "minStack.push(0);\n",
    "minStack.push(-3);\n",
    "minStack.getMin(); // return -3\n",
    "minStack.pop();\n",
    "minStack.top();    // return 0\n",
    "minStack.getMin(); // return -2"
   ]
  },
  {
   "cell_type": "code",
   "execution_count": null,
   "metadata": {
    "vscode": {
     "languageId": "plaintext"
    }
   },
   "outputs": [],
   "source": [
    "#Solution\n",
    "class MinStack:\n",
    "\n",
    "    def __init__(self):\n",
    "        self.res = []\n",
    "        self.mini = []\n",
    "\n",
    "    def push(self, val: int) -> None:\n",
    "        self.res.append(val)\n",
    "        val = min(val, self.mini[-1] if self.mini else val)\n",
    "        self.mini.append(val)\n",
    "\n",
    "    def pop(self) -> None:\n",
    "        self.res.pop()\n",
    "        self.mini.pop()       \n",
    "\n",
    "    def top(self) -> int:\n",
    "        return self.res[-1]\n",
    "\n",
    "    def getMin(self) -> int:\n",
    "        return self.mini[-1]"
   ]
  },
  {
   "cell_type": "markdown",
   "metadata": {},
   "source": [
    "## Solution Explanation :\n",
    "- **Purpose**: Implements a stack that supports retrieving the minimum element in constant time.  \n",
    "- **Data Structures**: Uses two stacks: `res` for storing elements and `mini` for tracking the minimum values.  \n",
    "- **Push Operation**: Adds an element to `res` and updates `mini` with the minimum value so far.  \n",
    "- **Pop Operation**: Removes the top element from both `res` and `mini`.  \n",
    "- **Top Operation**: Returns the top element of `res` without removing it.  \n",
    "- **GetMin Operation**: Returns the minimum element from `mini` in constant time. "
   ]
  }
 ],
 "metadata": {
  "language_info": {
   "name": "python"
  }
 },
 "nbformat": 4,
 "nbformat_minor": 2
}
