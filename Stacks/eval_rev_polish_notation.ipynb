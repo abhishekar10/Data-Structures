{
 "cells": [
  {
   "cell_type": "markdown",
   "metadata": {},
   "source": [
    "# Evaluate Reverse Valid Notation\n",
    "\n",
    "### Problem Statement\n",
    "You are given an array of strings tokens that represents an arithmetic expression in a Reverse Polish Notation.\n",
    "Evaluate the expression. Return an integer that represents the value of the expression.\n",
    "\n",
    "Note that:\n",
    " - The valid operators are '+', '-', '*', and '/'.\n",
    " - Each operand may be an integer or another expression.\n",
    " - The division between two integers always truncates toward zero.\n",
    " - There will not be any division by zero.\n",
    " - The input represents a valid arithmetic expression in a reverse polish notation.\n",
    " - The answer and all the intermediate calculations can be represented in a 32-bit integer.\n",
    " \n",
    "Example 1:\n",
    "Input: tokens = [\"2\",\"1\",\"+\",\"3\",\"*\"]\n",
    "Output: 9\n",
    "Explanation: ((2 + 1) * 3) = 9\n",
    "\n",
    "Example 2:\n",
    "Input: tokens = [\"4\",\"13\",\"5\",\"/\",\"+\"]\n",
    "Output: 6\n",
    "Explanation: (4 + (13 / 5)) = 6\n",
    "\n",
    "Example 3:\n",
    "Input: tokens = [\"10\",\"6\",\"9\",\"3\",\"+\",\"-11\",\"*\",\"/\",\"*\",\"17\",\"+\",\"5\",\"+\"]\n",
    "Output: 22\n",
    "Explanation: ((10 * (6 / ((9 + 3) * -11))) + 17) + 5\n",
    "= ((10 * (6 / (12 * -11))) + 17) + 5\n",
    "= ((10 * (6 / -132)) + 17) + 5\n",
    "= ((10 * 0) + 17) + 5\n",
    "= (0 + 17) + 5\n",
    "= 17 + 5\n",
    "= 22"
   ]
  },
  {
   "cell_type": "code",
   "execution_count": null,
   "metadata": {
    "vscode": {
     "languageId": "plaintext"
    }
   },
   "outputs": [],
   "source": [
    "#Solution\n",
    "class Solution:\n",
    "    def evalRPN(self, tokens: List[str]) -> int:\n",
    "        res_stack = []\n",
    "        operators = {'+','-','/','*'}\n",
    "        for i in tokens :\n",
    "            if i in operators :\n",
    "                a , b = res_stack.pop() , res_stack.pop()\n",
    "            if i == \"+\" :\n",
    "                res_stack.append(a + b)\n",
    "            elif i == '-' :\n",
    "                res_stack.append(b - a)\n",
    "            elif i == '*' :\n",
    "                res_stack.append(a * b)\n",
    "            elif i == '/' :\n",
    "                res_stack.append(int(b / a))\n",
    "            else :\n",
    "                res_stack.append(int(i))\n",
    "        return res_stack[0]"
   ]
  },
  {
   "cell_type": "markdown",
   "metadata": {},
   "source": [
    "## Solution Explanation\n",
    "- **Purpose**: The `evalRPN` function evaluates an expression given in Reverse Polish Notation (RPN), where operators follow their operands.\n",
    "- **Operators Set**: A set `operators` is defined containing the four basic arithmetic operators: `+`, `-`, `*`, and `/`.\n",
    "- **Loop Through Tokens**: The function iterates through each token in the `tokens` list. If the token is an operator, the two most recent operands are popped from the stack and used for computation.\n",
    "- **Operator Handling**: Depending on the operator, the corresponding operation is performed:\n",
    "  - `+`: Adds the operands.\n",
    "  - `-`: Subtracts the first popped value from the second.\n",
    "  - `*`: Multiplies the operands.\n",
    "  - `/`: Performs integer division (`int(b / a)`) to ensure truncation toward zero.\n",
    "- **Final Result**: The last remaining value in `res_stack` is the result of the RPN expression and is returned.\n"
   ]
  }
 ],
 "metadata": {
  "language_info": {
   "name": "python"
  }
 },
 "nbformat": 4,
 "nbformat_minor": 2
}
