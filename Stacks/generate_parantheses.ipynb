{
 "cells": [
  {
   "cell_type": "markdown",
   "metadata": {},
   "source": [
    "# Generate Parantheses\n",
    "\n",
    "### Problem Statement\n",
    "Given n pairs of parentheses, write a function to generate all combinations of well-formed parentheses.\n",
    "\n",
    "Example 1:\n",
    "Input: n = 3\n",
    "Output: [\"((()))\",\"(()())\",\"(())()\",\"()(())\",\"()()()\"]\n",
    "\n",
    "Example 2:\n",
    "Input: n = 1\n",
    "Output: [\"()\"]"
   ]
  },
  {
   "cell_type": "code",
   "execution_count": null,
   "metadata": {
    "vscode": {
     "languageId": "plaintext"
    }
   },
   "outputs": [],
   "source": [
    "#Solution\n",
    "class Solution:\n",
    "    def generateParenthesis(self, n: int) -> List[str]:\n",
    "        par_stack , res = [] , []\n",
    "        def recur (o , c) :\n",
    "            if o == c == n :\n",
    "                res.append(\"\".join(par_stack))\n",
    "                return\n",
    "            \n",
    "            if o < n :\n",
    "                par_stack.append('(')\n",
    "                recur (o+1 , c)\n",
    "                par_stack.pop()\n",
    "            \n",
    "            if c < o :\n",
    "                par_stack.append(')')\n",
    "                recur (o , c+1)\n",
    "                par_stack.pop()\n",
    "        \n",
    "        recur (0,0)\n",
    "        return res"
   ]
  },
  {
   "cell_type": "markdown",
   "metadata": {},
   "source": [
    "## Solution Explanation\n",
    "- **Purpose**: The `generateParenthesis` function generates all valid combinations of `n` pairs of parentheses using a recursive approach.  \n",
    "- **Backtracking Setup**: It uses a stack `par_stack` to keep track of the current sequence and a list `res` to store valid combinations.  \n",
    "- **Recursive Function (`recur`)**: If the number of open (`o`) and close (`c`) parentheses both reach `n`, a valid combination is formed and added to `res`. If the number of open parentheses (`o`) is less than `n`, an `'('` is added, and recursion continues. If the number of close parentheses (`c`) is less than the open count (`o`), a `')'` is added, ensuring validity.  \n",
    "- **Backtracking**: After each recursive call, the last added parenthesis is removed (`pop()`) to explore other valid paths.  \n",
    "- **Final Result**: The function returns `res`, which contains all valid parenthesis combinations for the given `n`.  "
   ]
  }
 ],
 "metadata": {
  "language_info": {
   "name": "python"
  }
 },
 "nbformat": 4,
 "nbformat_minor": 2
}
