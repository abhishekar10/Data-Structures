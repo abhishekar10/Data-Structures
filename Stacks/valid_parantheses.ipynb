{
 "cells": [
  {
   "cell_type": "markdown",
   "metadata": {},
   "source": [
    "# Valid Parantheses\n",
    "\n",
    "### Problem Statement\n",
    "Given a string s containing just the characters '(', ')', '{', '}', '[' and ']', determine if the input string is valid.\n",
    "\n",
    "An input string is valid if:\n",
    "<ul>\n",
    "<li>Open brackets must be closed by the same type of brackets.</li>\n",
    "<li>Open brackets must be closed in the correct order.</li>\n",
    "<li>Every close bracket has a corresponding open bracket of the same type.</li>\n",
    "</ul>\n",
    "\n",
    "**Example 1:**\n",
    "Input: s = \"()\"\n",
    "Output: true\n",
    "\n",
    "**Example 2:**\n",
    "Input: s = \"()[]{}\"\n",
    "Output: true\n",
    "\n",
    "**Example 3:**\n",
    "Input: s = \"(]\"\n",
    "Output: false\n",
    "\n",
    "**Example 4:**\n",
    "Input: s = \"([])\"\n",
    "Output: true"
   ]
  },
  {
   "cell_type": "code",
   "execution_count": null,
   "metadata": {
    "vscode": {
     "languageId": "plaintext"
    }
   },
   "outputs": [],
   "source": [
    "#Solution\n",
    "class Solution:\n",
    "    def isValid(self, s: str) -> bool:\n",
    "        a = []\n",
    "        for i in s :\n",
    "            if i == '(' or i== '{' or i == '[' :\n",
    "                a.append(i)\n",
    "            elif len(a):\n",
    "                if (i == ')' and a[-1] == '(') or (i == ']' and a[-1] == '[') or (i == '}' and a[-1] == '{') :\n",
    "                    a.pop()\n",
    "                else :\n",
    "                    return False\n",
    "            else :\n",
    "                return False\n",
    "        return True if len(a) == 0 else False"
   ]
  },
  {
   "cell_type": "markdown",
   "metadata": {},
   "source": [
    "## Solution Explanation :\n",
    "- **Purpose**: This Python function checks if a given string of brackets is valid.  \n",
    "- **Method**: It uses a stack (`a`) to track opening brackets and ensures they match closing brackets.  \n",
    "- **Validation**: If a closing bracket appears without a matching opening bracket, it returns `False`.  \n",
    "- **Final Check**: The function returns `True` if all brackets are properly closed; otherwise, it returns `False`.  "
   ]
  }
 ],
 "metadata": {
  "language_info": {
   "name": "python"
  }
 },
 "nbformat": 4,
 "nbformat_minor": 2
}
