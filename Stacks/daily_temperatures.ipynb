{
 "cells": [
  {
   "cell_type": "markdown",
   "metadata": {},
   "source": [
    "# Daily Temperatures\n",
    "\n",
    "### Problem Satatement\n",
    "Given an array of integers temperatures represents the daily temperatures, return an array answer such that answer[i] is the number of days you have to wait after the ith day to get a warmer temperature. If there is no future day for which this is possible, keep answer[i] == 0 instead.\n",
    "\n",
    "Example 1:\n",
    "Input: temperatures = [73,74,75,71,69,72,76,73]\n",
    "Output: [1,1,4,2,1,1,0,0]\n",
    "\n",
    "Example 2:\n",
    "Input: temperatures = [30,40,50,60]\n",
    "Output: [1,1,1,0]\n",
    "\n",
    "Example 3:\n",
    "Input: temperatures = [30,60,90]\n",
    "Output: [1,1,0]"
   ]
  },
  {
   "cell_type": "code",
   "execution_count": null,
   "metadata": {
    "vscode": {
     "languageId": "plaintext"
    }
   },
   "outputs": [],
   "source": [
    "#Solution\n",
    "class Solution:\n",
    "    def dailyTemperatures(self, temperatures: List[int]) -> List[int]:\n",
    "        stack , res = [] , [0] * len(temperatures)\n",
    "        for i, t in enumerate (temperatures) :\n",
    "            while stack and t > temperatures[stack[-1]] :\n",
    "                stackI = stack.pop()\n",
    "                res[stackI] = i - stackI\n",
    "            stack.append(i)\n",
    "        return res\n"
   ]
  },
  {
   "cell_type": "markdown",
   "metadata": {},
   "source": [
    "## Solution Explanation\n",
    "- **Purpose**: The `dailyTemperatures` function calculates the number of days until a warmer temperature for each day in the given `temperatures` list.  \n",
    "- **Stack Usage**: A stack is used to store indices of temperatures that haven't yet found a warmer day, while `res` is initialized with zeros to store the results.  \n",
    "- **Iteration Over Temperatures**: The function iterates through `temperatures`, checking if the current temperature (`t`) is higher than the temperature at the index stored at the top of the stack.  \n",
    "- **Updating Results**: If a warmer temperature is found, the index is popped from the stack, and the difference between the current index and the popped index is stored in `res`. This continues until the stack is empty or no warmer temperature is found.  \n",
    "- **Final Result**: The function returns `res`, where each value represents the number of days until a warmer temperature or `0` if no such day exists.  "
   ]
  }
 ],
 "metadata": {
  "language_info": {
   "name": "python"
  }
 },
 "nbformat": 4,
 "nbformat_minor": 2
}
