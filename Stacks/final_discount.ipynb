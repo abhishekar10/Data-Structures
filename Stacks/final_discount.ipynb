{
 "cells": [
  {
   "cell_type": "markdown",
   "metadata": {},
   "source": [
    "# Final Prices With a Special Discount in a Shop\n",
    "\n",
    "### Problem Statement \n",
    "\n",
    "You are given an integer array prices where prices[i] is the price of the ith item in a shop.\n",
    "There is a special discount for items in the shop. If you buy the ith item, then you will receive a discount equivalent to prices[j] where j is the minimum index such that j > i and prices[j] <= prices[i]. Otherwise, you will not receive any discount at all.\n",
    "Return an integer array answer where answer[i] is the final price you will pay for the ith item of the shop, considering the special discount.\n",
    "\n",
    "Example 1:\n",
    "\n",
    "Input: prices = [8,4,6,2,3]\n",
    "Output: [4,2,4,2,3]\n",
    "Explanation: \n",
    "For item 0 with price[0]=8 you will receive a discount equivalent to prices[1]=4, therefore, the final price you will pay is 8 - 4 = 4.\n",
    "For item 1 with price[1]=4 you will receive a discount equivalent to prices[3]=2, therefore, the final price you will pay is 4 - 2 = 2.\n",
    "For item 2 with price[2]=6 you will receive a discount equivalent to prices[3]=2, therefore, the final price you will pay is 6 - 2 = 4.\n",
    "For items 3 and 4 you will not receive any discount at all.\n",
    "\n",
    "Example 2:\n",
    "Input: prices = [1,2,3,4,5]\n",
    "Output: [1,2,3,4,5]\n",
    "Explanation: In this case, for all items, you will not receive any discount at all.\n",
    "\n",
    "Example 3:\n",
    "Input: prices = [10,1,1,6]\n",
    "Output: [9,0,1,6]"
   ]
  }
 ],
 "metadata": {
  "language_info": {
   "name": "python"
  }
 },
 "nbformat": 4,
 "nbformat_minor": 2
}
