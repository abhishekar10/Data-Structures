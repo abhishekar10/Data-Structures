{
 "cells": [
  {
   "cell_type": "markdown",
   "metadata": {},
   "source": [
    "# Final Prices With a Special Discount in a Shop\n",
    "\n",
    "### Problem Statement \n",
    "\n",
    "You are given an integer array prices where prices[i] is the price of the ith item in a shop.\n",
    "There is a special discount for items in the shop. If you buy the ith item, then you will receive a discount equivalent to prices[j] where j is the minimum index such that j > i and prices[j] <= prices[i]. Otherwise, you will not receive any discount at all.\n",
    "Return an integer array answer where answer[i] is the final price you will pay for the ith item of the shop, considering the special discount.\n",
    "\n",
    "Example 1:\n",
    "\n",
    "Input: prices = [8,4,6,2,3]\n",
    "Output: [4,2,4,2,3]\n",
    "Explanation: \n",
    "For item 0 with price[0]=8 you will receive a discount equivalent to prices[1]=4, therefore, the final price you will pay is 8 - 4 = 4.\n",
    "For item 1 with price[1]=4 you will receive a discount equivalent to prices[3]=2, therefore, the final price you will pay is 4 - 2 = 2.\n",
    "For item 2 with price[2]=6 you will receive a discount equivalent to prices[3]=2, therefore, the final price you will pay is 6 - 2 = 4.\n",
    "For items 3 and 4 you will not receive any discount at all.\n",
    "\n",
    "Example 2:\n",
    "Input: prices = [1,2,3,4,5]\n",
    "Output: [1,2,3,4,5]\n",
    "Explanation: In this case, for all items, you will not receive any discount at all.\n",
    "\n",
    "Example 3:\n",
    "Input: prices = [10,1,1,6]\n",
    "Output: [9,0,1,6]"
   ]
  },
  {
   "cell_type": "code",
   "execution_count": null,
   "metadata": {
    "vscode": {
     "languageId": "plaintext"
    }
   },
   "outputs": [],
   "source": [
    "class Solution:\n",
    "    def finalPrices(self, prices: List[int]) -> List[int]:\n",
    "        n=len(prices)\n",
    "        stack=[n-1]\n",
    "        ans=[x for x in prices]\n",
    "        for i in range(n-2, -1, -1):\n",
    "            while stack and prices[i]<prices[stack[-1]]:\n",
    "                stack.pop()\n",
    "            if stack: ans[i]-=prices[stack[-1]]\n",
    "            stack.append(i)\n",
    "        return ans"
   ]
  },
  {
   "cell_type": "markdown",
   "metadata": {},
   "source": [
    "## Solution Explanation\n",
    "\n",
    "- **Purpose**: The `finalPrices` function calculates the final prices after applying discounts, where each price gets reduced by the next smaller or equal price in the list.  \n",
    "- **Stack Usage**: A stack is used to track indices of potential discount values while iterating from right to left through `prices`.  \n",
    "- **Processing Prices**: For each price at index `i`, the stack is checked for a valid discount (a smaller or equal price ahead in the list). If found, the discount is subtracted from `prices[i]`.  \n",
    "- **Maintaining the Stack**: The stack maintains indices in a non-increasing order. If the current price is smaller than the top of the stack, the stack is popped until a valid discount is found.\n",
    "- **Final Result**: The function returns `ans`, which contains the discounted prices where applicable, or the original prices if no discount is found.  "
   ]
  }
 ],
 "metadata": {
  "language_info": {
   "name": "python"
  }
 },
 "nbformat": 4,
 "nbformat_minor": 2
}
